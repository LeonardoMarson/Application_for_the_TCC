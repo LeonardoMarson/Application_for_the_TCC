{
  "nbformat": 4,
  "nbformat_minor": 0,
  "metadata": {
    "colab": {
      "provenance": []
    },
    "kernelspec": {
      "name": "python3",
      "display_name": "Python 3"
    },
    "language_info": {
      "name": "python"
    }
  },
  "cells": [
    {
      "cell_type": "code",
      "execution_count": null,
      "metadata": {
        "id": "EJIJ9L8LQFEY"
      },
      "outputs": [],
      "source": [
        "import os\n",
        "import numpy as np\n",
        "import tensorflow as tf\n",
        "from sklearn.model_selection import train_test_split\n",
        "from PIL import Image\n",
        "from tensorflow import keras\n",
        "import matplotlib.pyplot as plt\n",
        "from tensorflow.keras.preprocessing.image import ImageDataGenerator"
      ]
    },
    {
      "cell_type": "code",
      "source": [
        "from google.colab import drive\n",
        "drive.mount('/content/drive')"
      ],
      "metadata": {
        "colab": {
          "base_uri": "https://localhost:8080/"
        },
        "id": "ednVdPA0tE0G",
        "outputId": "41c895c5-dd56-423d-c2cd-2fc860394ef4"
      },
      "execution_count": null,
      "outputs": [
        {
          "output_type": "stream",
          "name": "stdout",
          "text": [
            "Mounted at /content/drive\n"
          ]
        }
      ]
    },
    {
      "cell_type": "code",
      "source": [
        "caminho_base = '/content/drive/MyDrive/ApplicationTCC4/datasets/parts/train'\n",
        "caminho_conforme = os.path.join(caminho_base, 'conforme')\n",
        "caminho_nao_conforme = os.path.join(caminho_base, 'nao_conforme')\n",
        "\n",
        "print(caminho_conforme)\n",
        "print(caminho_nao_conforme)"
      ],
      "metadata": {
        "id": "3z4MsoibRlFF",
        "colab": {
          "base_uri": "https://localhost:8080/"
        },
        "outputId": "7f2cf6f4-482e-464b-a949-8fd5bc6d2248"
      },
      "execution_count": null,
      "outputs": [
        {
          "output_type": "stream",
          "name": "stdout",
          "text": [
            "/content/drive/MyDrive/ApplicationTCC4/datasets/parts/train/conforme\n",
            "/content/drive/MyDrive/ApplicationTCC4/datasets/parts/train/nao_conforme\n"
          ]
        }
      ]
    },
    {
      "cell_type": "code",
      "source": [
        "# Definindo parâmetros de pré-processamento e carregamento de imagens\n",
        "batch_size = 32\n",
        "img_height, img_width = 299, 299\n",
        "\n",
        "# Utilizando ImageDataGenerator para carregar e pré-processar as imagens\n",
        "train_datagen = ImageDataGenerator(rescale=1./255, validation_split=0.2)\n",
        "\n",
        "# Carregando as imagens de treinamento\n",
        "train_generator = train_datagen.flow_from_directory(\n",
        "    caminho_base,\n",
        "    target_size=(img_height, img_width),\n",
        "    batch_size=batch_size,\n",
        "    # class_mode='categorical',\n",
        "    class_mode='binary',\n",
        "    subset='training'\n",
        ")\n",
        "\n",
        "# Carregando as imagens de validação\n",
        "validation_generator = train_datagen.flow_from_directory(\n",
        "    caminho_base,\n",
        "    target_size=(img_height, img_width),\n",
        "    batch_size=batch_size,\n",
        "    # class_mode='categorical',\n",
        "    class_mode='binary',\n",
        "    subset='validation'\n",
        ")"
      ],
      "metadata": {
        "colab": {
          "base_uri": "https://localhost:8080/"
        },
        "id": "C3S-oPyFiuYj",
        "outputId": "952bcc47-c12e-40c4-e180-41b23b95ff55"
      },
      "execution_count": null,
      "outputs": [
        {
          "output_type": "stream",
          "name": "stdout",
          "text": [
            "Found 1434 images belonging to 2 classes.\n",
            "Found 358 images belonging to 2 classes.\n"
          ]
        }
      ]
    },
    {
      "cell_type": "code",
      "source": [
        "# Definindo o modelo\n",
        "model = tf.keras.Sequential([\n",
        "    # Camada de convolução 2D com ativação ReLU\n",
        "    tf.keras.layers.Conv2D(32, (3, 3), activation='relu', input_shape=(img_height, img_width, 3)),\n",
        "\n",
        "    # Camada de MaxPooling para redução de dimensionalidade\n",
        "    tf.keras.layers.MaxPooling2D(2, 2),\n",
        "\n",
        "    # Segunda camada de convolução 2D com ativação ReLU\n",
        "    tf.keras.layers.Conv2D(64, (3, 3), activation='relu'),\n",
        "\n",
        "    # Segunda camada de MaxPooling\n",
        "    tf.keras.layers.MaxPooling2D(2, 2),\n",
        "\n",
        "    # Camada de achatamento (flatten) para conectar as camadas convolucionais às camadas densas\n",
        "    tf.keras.layers.Flatten(),\n",
        "\n",
        "    # Camada densa (totalmente conectada) com ativação ReLU\n",
        "    tf.keras.layers.Dense(128, activation='relu'),\n",
        "\n",
        "    # Camada de saída\n",
        "    # tf.keras.layers.Dense(2, activation='softmax')\n",
        "    tf.keras.layers.Dense(1, activation='sigmoid')\n",
        "])\n",
        "\n",
        "# Compilando o modelo\n",
        "# model.compile(optimizer='adam', loss='binary_crossentropy', metrics=['accuracy'])"
      ],
      "metadata": {
        "id": "yD30MGEUnKKu"
      },
      "execution_count": null,
      "outputs": []
    },
    {
      "cell_type": "code",
      "source": [
        "# Definindo a função de perda, otimizador e métricas\n",
        "loss = tf.keras.losses.BinaryCrossentropy(from_logits=True)\n",
        "optim = tf.keras.optimizers.Adam(learning_rate=0.001)\n",
        "metrics = [\"accuracy\"]\n",
        "\n",
        "# Compilando o modelo\n",
        "model.compile(optimizer=optim, loss=loss, metrics=metrics)"
      ],
      "metadata": {
        "id": "vkalORlkplcO"
      },
      "execution_count": null,
      "outputs": []
    },
    {
      "cell_type": "code",
      "source": [
        "# Definindo o número de épocas\n",
        "epochs = 6\n",
        "steps_per_epoch = np.ceil(train_generator.n / batch_size)\n",
        "validation_steps = np.ceil(validation_generator.n / batch_size)\n",
        "\n",
        "# Treinamento do modelo\n",
        "model.fit(\n",
        "    train_generator,\n",
        "    steps_per_epoch = steps_per_epoch,\n",
        "    epochs=epochs,\n",
        "    validation_data=validation_generator,\n",
        "    validation_steps=validation_steps\n",
        ")"
      ],
      "metadata": {
        "colab": {
          "base_uri": "https://localhost:8080/"
        },
        "id": "ILpcp1h1rnzz",
        "outputId": "046c6744-caff-49f4-8c42-28e8eda3823c"
      },
      "execution_count": null,
      "outputs": [
        {
          "metadata": {
            "tags": null
          },
          "name": "stdout",
          "output_type": "stream",
          "text": [
            "Epoch 1/6\n"
          ]
        },
        {
          "metadata": {
            "tags": null
          },
          "name": "stderr",
          "output_type": "stream",
          "text": [
            "/usr/local/lib/python3.10/dist-packages/keras/src/backend.py:5818: UserWarning: \"`binary_crossentropy` received `from_logits=True`, but the `output` argument was produced by a Sigmoid activation and thus does not represent logits. Was this intended?\n",
            "  output, from_logits = _get_logits(\n"
          ]
        },
        {
          "output_type": "stream",
          "name": "stdout",
          "text": [
            "45/45 [==============================] - 560s 12s/step - loss: 2.7513 - accuracy: 0.6172 - val_loss: 0.7732 - val_accuracy: 0.5698\n",
            "Epoch 2/6\n",
            "45/45 [==============================] - 401s 9s/step - loss: 0.4108 - accuracy: 0.8124 - val_loss: 0.9424 - val_accuracy: 0.5642\n",
            "Epoch 3/6\n",
            "45/45 [==============================] - 431s 10s/step - loss: 0.1006 - accuracy: 0.9714 - val_loss: 2.2346 - val_accuracy: 0.6201\n",
            "Epoch 4/6\n",
            "45/45 [==============================] - 440s 10s/step - loss: 0.0229 - accuracy: 0.9972 - val_loss: 3.2336 - val_accuracy: 0.6257\n",
            "Epoch 5/6\n",
            "45/45 [==============================] - 395s 9s/step - loss: 0.0109 - accuracy: 0.9993 - val_loss: 2.7458 - val_accuracy: 0.6788\n",
            "Epoch 6/6\n",
            "45/45 [==============================] - 387s 9s/step - loss: 0.0034 - accuracy: 1.0000 - val_loss: 2.7232 - val_accuracy: 0.6229\n"
          ]
        },
        {
          "output_type": "execute_result",
          "data": {
            "text/plain": [
              "<keras.src.callbacks.History at 0x792538657280>"
            ]
          },
          "metadata": {},
          "execution_count": 7
        }
      ]
    },
    {
      "cell_type": "code",
      "source": [
        "# # Caminho para teste\n",
        "# caminho_teste = '/content/drive/MyDrive/ApplicationTCC/datasets/parts/validation'\n",
        "\n",
        "# # Criando um novo gerador de dados para o conjunto de teste\n",
        "# test_datagen = ImageDataGenerator(rescale=1./255)\n",
        "\n",
        "# test_generator = test_datagen.flow_from_directory(\n",
        "#     caminho_teste,\n",
        "#     target_size=(img_height, img_width),\n",
        "#     batch_size=batch_size,\n",
        "#     class_mode='categorical'\n",
        "# )\n",
        "\n",
        "# # Avaliando o modelo no conjunto de teste\n",
        "# results = model.evaluate(test_generator)\n",
        "\n",
        "# # Mostrando as métricas\n",
        "# print(\"Loss do Teste:\", results[0])\n",
        "# print(\"Acurácia do Teste:\", results[1])"
      ],
      "metadata": {
        "colab": {
          "base_uri": "https://localhost:8080/"
        },
        "id": "LUaiXr6AtHkw",
        "outputId": "8ea8485c-b397-4e44-a9b7-e98d6274128c"
      },
      "execution_count": null,
      "outputs": [
        {
          "output_type": "stream",
          "name": "stdout",
          "text": [
            "Found 16 images belonging to 2 classes.\n"
          ]
        }
      ]
    }
  ]
}